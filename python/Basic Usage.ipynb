{
 "cells": [
  {
   "cell_type": "markdown",
   "metadata": {},
   "source": [
    "# Basic Usage\n",
    "\n",
    "`hypml` is utility for loading valid Hypothesis Markup Language (.hypml) documents.\n",
    "\n",
    "You can import the module into your Python script:"
   ]
  },
  {
   "cell_type": "code",
   "execution_count": 1,
   "metadata": {},
   "outputs": [],
   "source": [
    "import hypml"
   ]
  },
  {
   "cell_type": "markdown",
   "metadata": {},
   "source": [
    "## Features\n",
    "\n",
    "### `load`\n",
    "\n",
    "Loads a .hypml document. By default, only valid documents will be returned.\n",
    "\n",
    "#### Parameters\n",
    "\n",
    "- path : string\n",
    "\n",
    "    a path to a .hypml document\n",
    "\n",
    "- ignore_validation : bool\n",
    "\n",
    "    False (default) - returns nothing if validation fails\n",
    "\n",
    "    True - returns the document contents even if invalid\n",
    "\n",
    "#### Returns\n",
    "\n",
    "- object : an object of the .hypml contents for downstream usage\n",
    "    \n",
    "#### Example\n",
    "\n",
    "Load an example .hypml representing an Iris classifier. The file looks like this:"
   ]
  },
  {
   "cell_type": "code",
   "execution_count": 2,
   "metadata": {},
   "outputs": [
    {
     "name": "stdout",
     "output_type": "stream",
     "text": [
      "### This is a HypML document. See hypmachine.github.io/hypml for info.\n",
      "\n",
      "meta:\n",
      "  title: Iris Classification\n",
      "  author: blairhudson\n",
      "  date: 20181104\n",
      "  version: 1\n",
      "  description: Predicting flower type based on its measurements.\n",
      "\n",
      "task: classification\n",
      "\n",
      "target:\n",
      "  Setosa: 1\n",
      "  Other: 0\n",
      "    \n",
      "features:\n",
      "  sepal-width:\n",
      "    type: float\n",
      "  sepal-length:\n",
      "    type: float\n",
      "  petal-width:\n",
      "    type: float\n",
      "  petal-length:\n",
      "    type: float\n",
      "        \n",
      "metrics:\n",
      "  accuracy:\n",
      "    min: 0.8\n",
      "  auc:\n",
      "    min: 0.7\n"
     ]
    }
   ],
   "source": [
    "print(open('../examples/iris.hypml','r').read())"
   ]
  },
  {
   "cell_type": "markdown",
   "metadata": {},
   "source": [
    "Using the `load` function, we can load and validate the file and represent it as Python object:"
   ]
  },
  {
   "cell_type": "code",
   "execution_count": 3,
   "metadata": {},
   "outputs": [
    {
     "data": {
      "text/plain": [
       "{'features': {'petal-length': {'type': 'float'},\n",
       "  'petal-width': {'type': 'float'},\n",
       "  'sepal-length': {'type': 'float'},\n",
       "  'sepal-width': {'type': 'float'}},\n",
       " 'meta': {'author': 'blairhudson',\n",
       "  'date': 20181104,\n",
       "  'description': 'Predicting flower type based on its measurements.',\n",
       "  'title': 'Iris Classification',\n",
       "  'version': 1},\n",
       " 'metrics': {'accuracy': {'min': 0.8}, 'auc': {'min': 0.7}},\n",
       " 'target': {'Other': 0, 'Setosa': 1},\n",
       " 'task': 'classification'}"
      ]
     },
     "execution_count": 3,
     "metadata": {},
     "output_type": "execute_result"
    }
   ],
   "source": [
    "hyp = hypml.load('../examples/iris.hypml')\n",
    "hyp"
   ]
  },
  {
   "cell_type": "markdown",
   "metadata": {},
   "source": [
    "Which means you can do things like this:"
   ]
  },
  {
   "cell_type": "code",
   "execution_count": 4,
   "metadata": {},
   "outputs": [
    {
     "data": {
      "text/plain": [
       "'classification'"
      ]
     },
     "execution_count": 4,
     "metadata": {},
     "output_type": "execute_result"
    }
   ],
   "source": [
    "hyp['task']"
   ]
  },
  {
   "cell_type": "markdown",
   "metadata": {},
   "source": [
    "And this:"
   ]
  },
  {
   "cell_type": "code",
   "execution_count": 5,
   "metadata": {},
   "outputs": [
    {
     "name": "stdout",
     "output_type": "stream",
     "text": [
      "sepal-width is of type float\n",
      "sepal-length is of type float\n",
      "petal-length is of type float\n",
      "petal-width is of type float\n"
     ]
    }
   ],
   "source": [
    "for feature, properties in hyp['features'].items():\n",
    "    print(feature, 'is of type', properties['type'])"
   ]
  }
 ],
 "metadata": {
  "kernelspec": {
   "display_name": "Python [default]",
   "language": "python",
   "name": "python3"
  },
  "language_info": {
   "codemirror_mode": {
    "name": "ipython",
    "version": 3
   },
   "file_extension": ".py",
   "mimetype": "text/x-python",
   "name": "python",
   "nbconvert_exporter": "python",
   "pygments_lexer": "ipython3",
   "version": "3.5.3"
  }
 },
 "nbformat": 4,
 "nbformat_minor": 2
}
